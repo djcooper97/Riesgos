{
 "cells": [
  {
   "cell_type": "markdown",
   "metadata": {},
   "source": [
    "# Valuación de Intrumentos Financieros del Mercado de Dinero\n",
    "\n",
    "Los instrumentos de deuda son títulos, es decir, documentos necesarios para hacer válidos los derechos de una transacción financiera.\n",
    "\n",
    "Representan el compromiso por parte del emisor (en este caso la entidad) de pagar los recursos prestados, más un interés pactado o establecido previamente, al poseedor del título (o inversionista), en una fecha de vencimiento dada\n",
    "\n",
    "### Bonos\n",
    "\n",
    "Existen 3 tipos diferentes de bonos:\n",
    "\n",
    "- $\\textbf{Bonos cupón cero}$: Títulos a un plazo determinado, que devengan intereses una sola vez, al vencimiento, a\n",
    "una tasa de rendimiento determinada al inicio, y que amortizan el nominal también al vencimiento. Se operan a descuento.\n",
    "\n",
    "- $\\textbf{Bonos con cupones a tasa variable}$: Títulos que generan intereses no sólo al vencimiento, sino en intervalos fijos durante la vida del instrumento, a una tasa variable que depende de uno o más factores específicos. El monto nominal puede amortizar en una exhibición al vencimiento o en varias durante la vida del instrumento.\n",
    "\n",
    "- $\\textbf{Bonos con cupones a tasa fija}$: Títulos generan intereses no sólo al vencimiento,\n",
    "sino en intervalos fijos durante la vida del instrumento, a una tasa fija predeterminada\n",
    "desde la emisión del instrumento. El monto nominal puede amortizar en una sola\n",
    "exhibición al vencimiento o en varias durante la vida delinstrumento"
   ]
  },
  {
   "cell_type": "markdown",
   "metadata": {},
   "source": [
    "### Bonos cupón cero\n",
    "\n",
    "Operan a descuento, por lo que su valuación consiste en traer a valor presente su valor nominal  utilizando la tasa correspondiente y considerando el plazo a vencimiento.\n",
    "\n",
    "$$\n",
    "P = \\frac{VN}{1 + i \\cdot \\frac{N - t}{360}} \\quad  o \\quad  P = VN \\cdot (1 - d \\cdot \\frac{N - t}{360})\n",
    "$$\n",
    "\n",
    "donde:\n",
    "\n",
    "- $P$ es el precio del bono\n",
    "- $VN$ es el valor nominal del bono\n",
    "- $i$ es la tasa de rendimiento del bono\n",
    "- $d$ es la tasa de descuento\n",
    "- $N$ es la fecha de vencimiento\n",
    "- $t$ es la fecha de valuación\n",
    "\n",
    "Se toma como convención ACT/360: Todos los meses se computan por los días reales que tienen y los años como si tuvieran 360 días.\n"
   ]
  },
  {
   "cell_type": "markdown",
   "metadata": {},
   "source": [
    "### Bono tasa fija\n",
    "\n",
    "Su valuación consiste en obtener el valor presente de los flujos de los cupones y del valor nominal.\n",
    "\n",
    "$$\n",
    "P = \\sum_{j=1}^{N-1} \\frac{C}{(1+i \\cdot \\frac{Pc}{360})^( \\frac{T_j-t}{Pc})} + \\frac{C + VN}{(1+i \\cdot \\frac{Pc}{360})^( \\frac{N-t}{Pc})}\n",
    "$$\n",
    "\n",
    "con:\n",
    "$$\n",
    "C = VN \\cdot i_c \\cdot \\frac{Pc}{360}\n",
    "$$\n",
    "\n",
    "donde:\n",
    "\n",
    "- $P$ es el precio del bono\n",
    "- $VN$ es el valor nominal del bono\n",
    "- $i$ es la tasa de rendimiento del bono\n",
    "- $i_c$ es la tasa cupón del bono\n",
    "- $T_j$ es la fecha de pago de cupón j\n",
    "- $Pc$ es el plazo de cupón\n",
    "- $N$ es la fecha de vencimiento\n",
    "- $t$ es la fecha de valuación\n",
    "\n",
    "Se toma como convención ACT/360: Todos los meses se computan por los días reales que tienen y los años como si tuvieran 360 días."
   ]
  }
 ],
 "metadata": {
  "kernelspec": {
   "display_name": "Python 3",
   "language": "python",
   "name": "python3"
  },
  "language_info": {
   "name": "python",
   "version": "3.12.2"
  }
 },
 "nbformat": 4,
 "nbformat_minor": 2
}
