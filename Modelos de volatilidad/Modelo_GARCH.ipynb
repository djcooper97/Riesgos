{
 "cells": [
  {
   "cell_type": "code",
   "execution_count": 1,
   "metadata": {},
   "outputs": [],
   "source": [
    "# Librerias necesarias \n",
    "import numpy as np\n",
    "import pandas as pd\n",
    "from arch import arch_model"
   ]
  },
  {
   "cell_type": "markdown",
   "metadata": {},
   "source": [
    "Modelo General de Rendimientos\n",
    "\n",
    "Tomando como base los hechos estilizados de los rendimientos, el modelo individual de los rendimientos de los activos se define como:\n",
    "\n",
    "$$\n",
    "R_{t} = \\mu_{t} + \\sigma_{t} * Z_{t}\n",
    "$$\n",
    "\n",
    "donde:\n",
    "- $Z_{t} \\sim D(0,1) \\quad \\forall t \\quad i.i.d$, es decir una distribución con media cero y varianza 1\n",
    "- $\\mu_{t} = 0$, supuesto dado por los hechos estilizados"
   ]
  },
  {
   "cell_type": "code",
   "execution_count": 2,
   "metadata": {},
   "outputs": [],
   "source": [
    "# Datos de rendimientos simulados\n",
    "np.random.seed(42)\n",
    "returns = 100 * pd.Series(np.random.randn(1000))  # Simulamos algunos rendimientos diarios"
   ]
  },
  {
   "cell_type": "markdown",
   "metadata": {},
   "source": [
    "Consideremos un modelo GARCH(p, q):\n",
    "\n",
    "El modelo GARCH toma como parametros p y q. El parametro p se refiere al número de términos de lag (retrasos) de la varianza condicional que se incluyen en el modelo, mientras que el parametro q se refiere al número de términos de lag de los residuos al cuadrado que se utilizan en el modelo.\n",
    "\n",
    "La ecuación de la varianza condicional usando un modelo GARCH(p,q):\n",
    "$$\n",
    "\\sigma_t^2 = \\omega + \\sum_{i=1}^p \\alpha_i \\epsilon_{t-i}^2 + \\sum_{j=1}^q \\beta_j \\sigma_{t-j}^2\n",
    "$$\n",
    "\n",
    "donde los residuos $\\epsilon_t$, se definen de la siguiente manera:\n",
    "$$\n",
    "\\epsilon_t = R_t - \\bar{R_t}\n",
    "$$\n",
    "\n",
    "Sin embargo, por los hechos estilizados tenemos que $\\bar{R_t} \\approx E[R_t] = \\mu_t = 0$, por lo cual la ecuacion queda definida por:\n",
    "\n",
    "$$\n",
    "\\sigma_t^2 = \\omega + \\sum_{i=1}^p \\alpha_i R_{t-i}^2 + \\sum_{j=1}^q \\beta_j \\sigma_{t-j}^2\n",
    "$$\n",
    "\n",
    "\n",
    "\n",
    "donde:\n",
    "- $\\omega$ es un parámetro constante positivo,\n",
    "- $\\alpha_i$ son los coeficientes que miden el impacto de los residuos al cuadrado de períodos anteriores sobre la varianza actual,\n",
    "- $\\beta_j$ son los coeficientes que representan la influencia de la varianza condicional pasada en la varianza actual.\n"
   ]
  },
  {
   "cell_type": "code",
   "execution_count": 3,
   "metadata": {},
   "outputs": [
    {
     "name": "stdout",
     "output_type": "stream",
     "text": [
      "Optimization terminated successfully    (Exit mode 0)\n",
      "            Current function value: 6002.754879455779\n",
      "            Iterations: 4\n",
      "            Function evaluations: 20\n",
      "            Gradient evaluations: 4\n"
     ]
    }
   ],
   "source": [
    "# Configurar el modelo GARCH(1,1) con una media cero para los rendimientos\n",
    "model = arch_model(returns, mean='Zero', vol='Garch', p=1, q=1)\n",
    "# Ajustar el modelo\n",
    "results = model.fit(update_freq=5)"
   ]
  },
  {
   "cell_type": "code",
   "execution_count": 5,
   "metadata": {},
   "outputs": [
    {
     "name": "stdout",
     "output_type": "stream",
     "text": [
      "                       Zero Mean - GARCH Model Results                        \n",
      "==============================================================================\n",
      "Dep. Variable:                   None   R-squared:                       0.000\n",
      "Mean Model:                 Zero Mean   Adj. R-squared:                  0.001\n",
      "Vol Model:                      GARCH   Log-Likelihood:               -6002.75\n",
      "Distribution:                  Normal   AIC:                           12011.5\n",
      "Method:            Maximum Likelihood   BIC:                           12026.2\n",
      "                                        No. Observations:                 1000\n",
      "Date:                Tue, Apr 16 2024   Df Residuals:                     1000\n",
      "Time:                        13:31:39   Df Model:                            0\n",
      "                               Volatility Model                              \n",
      "=============================================================================\n",
      "                 coef    std err          t      P>|t|       95.0% Conf. Int.\n",
      "-----------------------------------------------------------------------------\n",
      "omega       4791.3937   5141.025      0.932      0.351 [-5.285e+03,1.487e+04]\n",
      "alpha[1]   3.9257e-18  2.826e-03  1.389e-15      1.000 [-5.538e-03,5.538e-03]\n",
      "beta[1]        0.5004      0.532      0.941      0.347      [ -0.542,  1.543]\n",
      "=============================================================================\n",
      "\n",
      "Covariance estimator: robust\n"
     ]
    }
   ],
   "source": [
    "# Mostrar el resumen del modelo\n",
    "print(results.summary())"
   ]
  }
 ],
 "metadata": {
  "kernelspec": {
   "display_name": "venv",
   "language": "python",
   "name": "python3"
  },
  "language_info": {
   "codemirror_mode": {
    "name": "ipython",
    "version": 3
   },
   "file_extension": ".py",
   "mimetype": "text/x-python",
   "name": "python",
   "nbconvert_exporter": "python",
   "pygments_lexer": "ipython3",
   "version": "3.12.2"
  }
 },
 "nbformat": 4,
 "nbformat_minor": 2
}
